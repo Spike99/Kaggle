{
 "cells": [
  {
   "cell_type": "code",
   "execution_count": 1,
   "id": "cleared-elite",
   "metadata": {},
   "outputs": [],
   "source": [
    "import pandas as pd\n",
    "import numpy as np\n",
    "import seaborn as sns\n",
    "import warnings\n",
    "from sklearn.preprocessing import LabelEncoder\n",
    "from sklearn.preprocessing import StandardScaler\n",
    "from sklearn.model_selection import train_test_split\n",
    "from sklearn.linear_model import LogisticRegression\n",
    "from sklearn.metrics import confusion_matrix\n",
    "from sklearn.metrics import classification_report"
   ]
  },
  {
   "cell_type": "code",
   "execution_count": 3,
   "id": "refined-illustration",
   "metadata": {},
   "outputs": [],
   "source": [
    "train = pd.read_csv('D:/Competetion/Kaggle/Titanic/train.csv')\n",
    "test = pd.read_csv('D:/Competetion/Kaggle/Titanic/test.csv')\n",
    "gender_submission = pd.read_csv('D:/Competetion/Kaggle/Titanic/gender_submission.csv')"
   ]
  },
  {
   "cell_type": "code",
   "execution_count": 4,
   "id": "desperate-death",
   "metadata": {},
   "outputs": [],
   "source": [
    "train.drop(['Name', 'Ticket', 'Cabin', 'PassengerId'], axis = 1, inplace = True)\n",
    "test.drop(['Name', 'Ticket', 'Cabin', 'PassengerId'], axis = 1, inplace = True)"
   ]
  },
  {
   "cell_type": "code",
   "execution_count": 5,
   "id": "suitable-chicago",
   "metadata": {},
   "outputs": [],
   "source": [
    "# 删除带缺失值的变量\n",
    "train = train.dropna()\n",
    "test = test.dropna()"
   ]
  },
  {
   "cell_type": "code",
   "execution_count": 6,
   "id": "joined-louisiana",
   "metadata": {},
   "outputs": [],
   "source": [
    "# 独热编码\n",
    "train_dummy = pd.get_dummies(train[['Sex', 'Embarked']])\n",
    "test_dummy = pd.get_dummies(test[['Sex', 'Embarked']])"
   ]
  },
  {
   "cell_type": "code",
   "execution_count": 27,
   "id": "occupied-trunk",
   "metadata": {},
   "outputs": [],
   "source": [
    "# 拼接数据 \n",
    "train_conti = pd.DataFrame(train, columns = ['Survived', 'Pclass', 'Age', 'Parch', 'Fare'], index = train.index)\n",
    "\n",
    "train_conti = train_conti.join(train_dummy)\n",
    "# test = test_std_conti.join(test_dummy)\n"
   ]
  },
  {
   "cell_type": "code",
   "execution_count": 12,
   "id": "rural-toddler",
   "metadata": {},
   "outputs": [
    {
     "name": "stdout",
     "output_type": "stream",
     "text": [
      "<class 'pandas.core.frame.DataFrame'>\n",
      "Int64Index: 712 entries, 0 to 890\n",
      "Data columns (total 10 columns):\n",
      " #   Column      Non-Null Count  Dtype  \n",
      "---  ------      --------------  -----  \n",
      " 0   Survived    712 non-null    float64\n",
      " 1   Pclass      712 non-null    float64\n",
      " 2   Age         712 non-null    float64\n",
      " 3   Parch       712 non-null    float64\n",
      " 4   Fare        712 non-null    float64\n",
      " 5   Sex_female  712 non-null    uint8  \n",
      " 6   Sex_male    712 non-null    uint8  \n",
      " 7   Embarked_C  712 non-null    uint8  \n",
      " 8   Embarked_Q  712 non-null    uint8  \n",
      " 9   Embarked_S  712 non-null    uint8  \n",
      "dtypes: float64(5), uint8(5)\n",
      "memory usage: 56.9 KB\n"
     ]
    }
   ],
   "source": [
    "train.info()"
   ]
  },
  {
   "cell_type": "code",
   "execution_count": 40,
   "id": "corrected-assumption",
   "metadata": {
    "scrolled": true
   },
   "outputs": [
    {
     "data": {
      "text/html": [
       "<div>\n",
       "<style scoped>\n",
       "    .dataframe tbody tr th:only-of-type {\n",
       "        vertical-align: middle;\n",
       "    }\n",
       "\n",
       "    .dataframe tbody tr th {\n",
       "        vertical-align: top;\n",
       "    }\n",
       "\n",
       "    .dataframe thead th {\n",
       "        text-align: right;\n",
       "    }\n",
       "</style>\n",
       "<table border=\"1\" class=\"dataframe\">\n",
       "  <thead>\n",
       "    <tr style=\"text-align: right;\">\n",
       "      <th></th>\n",
       "      <th>Survived</th>\n",
       "      <th>Pclass</th>\n",
       "      <th>Age</th>\n",
       "      <th>Parch</th>\n",
       "      <th>Fare</th>\n",
       "      <th>Sex_female</th>\n",
       "      <th>Sex_male</th>\n",
       "      <th>Embarked_C</th>\n",
       "      <th>Embarked_Q</th>\n",
       "      <th>Embarked_S</th>\n",
       "    </tr>\n",
       "  </thead>\n",
       "  <tbody>\n",
       "    <tr>\n",
       "      <th>0</th>\n",
       "      <td>-0.824163</td>\n",
       "      <td>0.908600</td>\n",
       "      <td>-0.527669</td>\n",
       "      <td>-0.506787</td>\n",
       "      <td>-0.516380</td>\n",
       "      <td>0</td>\n",
       "      <td>1</td>\n",
       "      <td>0</td>\n",
       "      <td>0</td>\n",
       "      <td>1</td>\n",
       "    </tr>\n",
       "    <tr>\n",
       "      <th>1</th>\n",
       "      <td>1.213352</td>\n",
       "      <td>-1.482983</td>\n",
       "      <td>0.577094</td>\n",
       "      <td>-0.506787</td>\n",
       "      <td>0.694046</td>\n",
       "      <td>1</td>\n",
       "      <td>0</td>\n",
       "      <td>1</td>\n",
       "      <td>0</td>\n",
       "      <td>0</td>\n",
       "    </tr>\n",
       "    <tr>\n",
       "      <th>2</th>\n",
       "      <td>1.213352</td>\n",
       "      <td>0.908600</td>\n",
       "      <td>-0.251478</td>\n",
       "      <td>-0.506787</td>\n",
       "      <td>-0.503620</td>\n",
       "      <td>1</td>\n",
       "      <td>0</td>\n",
       "      <td>0</td>\n",
       "      <td>0</td>\n",
       "      <td>1</td>\n",
       "    </tr>\n",
       "    <tr>\n",
       "      <th>3</th>\n",
       "      <td>1.213352</td>\n",
       "      <td>-1.482983</td>\n",
       "      <td>0.369951</td>\n",
       "      <td>-0.506787</td>\n",
       "      <td>0.350326</td>\n",
       "      <td>1</td>\n",
       "      <td>0</td>\n",
       "      <td>0</td>\n",
       "      <td>0</td>\n",
       "      <td>1</td>\n",
       "    </tr>\n",
       "    <tr>\n",
       "      <th>4</th>\n",
       "      <td>-0.824163</td>\n",
       "      <td>0.908600</td>\n",
       "      <td>0.369951</td>\n",
       "      <td>-0.506787</td>\n",
       "      <td>-0.501257</td>\n",
       "      <td>0</td>\n",
       "      <td>1</td>\n",
       "      <td>0</td>\n",
       "      <td>0</td>\n",
       "      <td>1</td>\n",
       "    </tr>\n",
       "    <tr>\n",
       "      <th>...</th>\n",
       "      <td>...</td>\n",
       "      <td>...</td>\n",
       "      <td>...</td>\n",
       "      <td>...</td>\n",
       "      <td>...</td>\n",
       "      <td>...</td>\n",
       "      <td>...</td>\n",
       "      <td>...</td>\n",
       "      <td>...</td>\n",
       "      <td>...</td>\n",
       "    </tr>\n",
       "    <tr>\n",
       "      <th>885</th>\n",
       "      <td>-0.824163</td>\n",
       "      <td>0.908600</td>\n",
       "      <td>0.646142</td>\n",
       "      <td>5.350885</td>\n",
       "      <td>-0.102875</td>\n",
       "      <td>1</td>\n",
       "      <td>0</td>\n",
       "      <td>0</td>\n",
       "      <td>1</td>\n",
       "      <td>0</td>\n",
       "    </tr>\n",
       "    <tr>\n",
       "      <th>886</th>\n",
       "      <td>-0.824163</td>\n",
       "      <td>-0.287191</td>\n",
       "      <td>-0.182430</td>\n",
       "      <td>-0.506787</td>\n",
       "      <td>-0.407687</td>\n",
       "      <td>0</td>\n",
       "      <td>1</td>\n",
       "      <td>0</td>\n",
       "      <td>0</td>\n",
       "      <td>1</td>\n",
       "    </tr>\n",
       "    <tr>\n",
       "      <th>887</th>\n",
       "      <td>1.213352</td>\n",
       "      <td>-1.482983</td>\n",
       "      <td>-0.734812</td>\n",
       "      <td>-0.506787</td>\n",
       "      <td>-0.086335</td>\n",
       "      <td>1</td>\n",
       "      <td>0</td>\n",
       "      <td>0</td>\n",
       "      <td>0</td>\n",
       "      <td>1</td>\n",
       "    </tr>\n",
       "    <tr>\n",
       "      <th>889</th>\n",
       "      <td>1.213352</td>\n",
       "      <td>-1.482983</td>\n",
       "      <td>-0.251478</td>\n",
       "      <td>-0.506787</td>\n",
       "      <td>-0.086335</td>\n",
       "      <td>0</td>\n",
       "      <td>1</td>\n",
       "      <td>1</td>\n",
       "      <td>0</td>\n",
       "      <td>0</td>\n",
       "    </tr>\n",
       "    <tr>\n",
       "      <th>890</th>\n",
       "      <td>-0.824163</td>\n",
       "      <td>0.908600</td>\n",
       "      <td>0.162808</td>\n",
       "      <td>-0.506787</td>\n",
       "      <td>-0.506928</td>\n",
       "      <td>0</td>\n",
       "      <td>1</td>\n",
       "      <td>0</td>\n",
       "      <td>1</td>\n",
       "      <td>0</td>\n",
       "    </tr>\n",
       "  </tbody>\n",
       "</table>\n",
       "<p>712 rows × 10 columns</p>\n",
       "</div>"
      ],
      "text/plain": [
       "     Survived    Pclass       Age     Parch      Fare  Sex_female  Sex_male  \\\n",
       "0   -0.824163  0.908600 -0.527669 -0.506787 -0.516380           0         1   \n",
       "1    1.213352 -1.482983  0.577094 -0.506787  0.694046           1         0   \n",
       "2    1.213352  0.908600 -0.251478 -0.506787 -0.503620           1         0   \n",
       "3    1.213352 -1.482983  0.369951 -0.506787  0.350326           1         0   \n",
       "4   -0.824163  0.908600  0.369951 -0.506787 -0.501257           0         1   \n",
       "..        ...       ...       ...       ...       ...         ...       ...   \n",
       "885 -0.824163  0.908600  0.646142  5.350885 -0.102875           1         0   \n",
       "886 -0.824163 -0.287191 -0.182430 -0.506787 -0.407687           0         1   \n",
       "887  1.213352 -1.482983 -0.734812 -0.506787 -0.086335           1         0   \n",
       "889  1.213352 -1.482983 -0.251478 -0.506787 -0.086335           0         1   \n",
       "890 -0.824163  0.908600  0.162808 -0.506787 -0.506928           0         1   \n",
       "\n",
       "     Embarked_C  Embarked_Q  Embarked_S  \n",
       "0             0           0           1  \n",
       "1             1           0           0  \n",
       "2             0           0           1  \n",
       "3             0           0           1  \n",
       "4             0           0           1  \n",
       "..          ...         ...         ...  \n",
       "885           0           1           0  \n",
       "886           0           0           1  \n",
       "887           0           0           1  \n",
       "889           1           0           0  \n",
       "890           0           1           0  \n",
       "\n",
       "[712 rows x 10 columns]"
      ]
     },
     "execution_count": 40,
     "metadata": {},
     "output_type": "execute_result"
    }
   ],
   "source": [
    "train"
   ]
  },
  {
   "cell_type": "code",
   "execution_count": 13,
   "id": "dress-cookbook",
   "metadata": {},
   "outputs": [
    {
     "name": "stdout",
     "output_type": "stream",
     "text": [
      "<class 'pandas.core.frame.DataFrame'>\n",
      "Int64Index: 331 entries, 0 to 415\n",
      "Data columns (total 9 columns):\n",
      " #   Column      Non-Null Count  Dtype  \n",
      "---  ------      --------------  -----  \n",
      " 0   Pclass      331 non-null    float64\n",
      " 1   Age         331 non-null    float64\n",
      " 2   Parch       331 non-null    float64\n",
      " 3   Fare        331 non-null    float64\n",
      " 4   Sex_female  331 non-null    uint8  \n",
      " 5   Sex_male    331 non-null    uint8  \n",
      " 6   Embarked_C  331 non-null    uint8  \n",
      " 7   Embarked_Q  331 non-null    uint8  \n",
      " 8   Embarked_S  331 non-null    uint8  \n",
      "dtypes: float64(4), uint8(5)\n",
      "memory usage: 24.5 KB\n"
     ]
    }
   ],
   "source": [
    "test.info()"
   ]
  },
  {
   "cell_type": "code",
   "execution_count": 28,
   "id": "dated-guess",
   "metadata": {},
   "outputs": [],
   "source": [
    "x = train.iloc[ : , 1: ]\n",
    "y = train.iloc[ : , 0 ]\n",
    "# 使用iloc函数达到切片目的"
   ]
  },
  {
   "cell_type": "markdown",
   "id": "lovely-officer",
   "metadata": {},
   "source": [
    "##### 数据集划分"
   ]
  },
  {
   "cell_type": "code",
   "execution_count": 18,
   "id": "intermediate-toyota",
   "metadata": {},
   "outputs": [
    {
     "name": "stdout",
     "output_type": "stream",
     "text": [
      "<class 'pandas.core.frame.DataFrame'>\n",
      "Int64Index: 569 entries, 867 to 858\n",
      "Data columns (total 9 columns):\n",
      " #   Column      Non-Null Count  Dtype  \n",
      "---  ------      --------------  -----  \n",
      " 0   Pclass      569 non-null    float64\n",
      " 1   Age         569 non-null    float64\n",
      " 2   Parch       569 non-null    float64\n",
      " 3   Fare        569 non-null    float64\n",
      " 4   Sex_female  569 non-null    uint8  \n",
      " 5   Sex_male    569 non-null    uint8  \n",
      " 6   Embarked_C  569 non-null    uint8  \n",
      " 7   Embarked_Q  569 non-null    uint8  \n",
      " 8   Embarked_S  569 non-null    uint8  \n",
      "dtypes: float64(4), uint8(5)\n",
      "memory usage: 25.0 KB\n"
     ]
    }
   ],
   "source": [
    "x_train.info()"
   ]
  },
  {
   "cell_type": "code",
   "execution_count": null,
   "id": "british-zealand",
   "metadata": {},
   "outputs": [],
   "source": []
  },
  {
   "cell_type": "code",
   "execution_count": 29,
   "id": "existing-negative",
   "metadata": {},
   "outputs": [],
   "source": [
    "x_train, x_test, y_train, y_test = train_test_split(x, y, test_size = 0.2, random_state = 0)\n"
   ]
  },
  {
   "cell_type": "code",
   "execution_count": 31,
   "id": "hollow-monte",
   "metadata": {},
   "outputs": [],
   "source": [
    "# 归一化\n",
    "stdsc = StandardScaler()\n",
    "x_train_conti = stdsc.fit_transform(x_train[[ 'Pclass', 'Age', 'Parch', 'Fare']])\n",
    "x_test_conti = stdsc.fit_transform(x_test[['Pclass', 'Age', 'Parch', 'Fare']])\n",
    "\n",
    "# 标准化\n",
    "x_train_conti_std = pd.DataFrame(x_train_conti, columns = ['Pclass', 'Age', 'Parch', 'Fare'], index = x_train.index)\n",
    "x_test_conti_std = pd.DataFrame(x_test_conti, columns = ['Pclass', 'Age', 'Parch', 'Fare'], index = x_test.index)\n",
    "#  抽离出所需的DataFrame"
   ]
  },
  {
   "cell_type": "markdown",
   "id": "numeric-month",
   "metadata": {},
   "source": [
    "##### 模型训练"
   ]
  },
  {
   "cell_type": "code",
   "execution_count": 36,
   "id": "instructional-biography",
   "metadata": {},
   "outputs": [
    {
     "name": "stdout",
     "output_type": "stream",
     "text": [
      "<class 'pandas.core.frame.DataFrame'>\n",
      "Int64Index: 569 entries, 867 to 858\n",
      "Data columns (total 9 columns):\n",
      " #   Column      Non-Null Count  Dtype  \n",
      "---  ------      --------------  -----  \n",
      " 0   Pclass      569 non-null    float64\n",
      " 1   Age         569 non-null    float64\n",
      " 2   Parch       569 non-null    float64\n",
      " 3   Fare        569 non-null    float64\n",
      " 4   Sex_female  569 non-null    uint8  \n",
      " 5   Sex_male    569 non-null    uint8  \n",
      " 6   Embarked_C  569 non-null    uint8  \n",
      " 7   Embarked_Q  569 non-null    uint8  \n",
      " 8   Embarked_S  569 non-null    uint8  \n",
      "dtypes: float64(4), uint8(5)\n",
      "memory usage: 25.0 KB\n"
     ]
    }
   ],
   "source": [
    "x_train.info()"
   ]
  },
  {
   "cell_type": "code",
   "execution_count": 38,
   "id": "mounted-identity",
   "metadata": {},
   "outputs": [
    {
     "data": {
      "text/plain": [
       "867   -0.824163\n",
       "332   -0.824163\n",
       "20    -0.824163\n",
       "606   -0.824163\n",
       "379   -0.824163\n",
       "         ...   \n",
       "885   -0.824163\n",
       "239   -0.824163\n",
       "791   -0.824163\n",
       "705   -0.824163\n",
       "858    1.213352\n",
       "Name: Survived, Length: 569, dtype: float64"
      ]
     },
     "execution_count": 38,
     "metadata": {},
     "output_type": "execute_result"
    }
   ],
   "source": [
    "y_train"
   ]
  },
  {
   "cell_type": "code",
   "execution_count": 34,
   "id": "paperback-worcester",
   "metadata": {
    "scrolled": true
   },
   "outputs": [
    {
     "ename": "ValueError",
     "evalue": "Unknown label type: 'continuous'",
     "output_type": "error",
     "traceback": [
      "\u001b[1;31m---------------------------------------------------------------------------\u001b[0m",
      "\u001b[1;31mValueError\u001b[0m                                Traceback (most recent call last)",
      "\u001b[1;32m<ipython-input-34-cf45cf867f00>\u001b[0m in \u001b[0;36m<module>\u001b[1;34m\u001b[0m\n\u001b[0;32m      1\u001b[0m \u001b[0mlgr\u001b[0m \u001b[1;33m=\u001b[0m \u001b[0mLogisticRegression\u001b[0m\u001b[1;33m(\u001b[0m\u001b[0mrandom_state\u001b[0m \u001b[1;33m=\u001b[0m \u001b[1;36m0\u001b[0m\u001b[1;33m)\u001b[0m\u001b[1;33m\u001b[0m\u001b[1;33m\u001b[0m\u001b[0m\n\u001b[1;32m----> 2\u001b[1;33m \u001b[0mlgr\u001b[0m\u001b[1;33m.\u001b[0m\u001b[0mfit\u001b[0m\u001b[1;33m(\u001b[0m\u001b[0mx_train\u001b[0m\u001b[1;33m,\u001b[0m \u001b[0my_train\u001b[0m\u001b[1;33m)\u001b[0m\u001b[1;33m\u001b[0m\u001b[1;33m\u001b[0m\u001b[0m\n\u001b[0m",
      "\u001b[1;32mD:\\Program\\anoconda3\\envs\\TianChi\\lib\\site-packages\\sklearn\\linear_model\\_logistic.py\u001b[0m in \u001b[0;36mfit\u001b[1;34m(self, X, y, sample_weight)\u001b[0m\n\u001b[0;32m   1345\u001b[0m                                    \u001b[0morder\u001b[0m\u001b[1;33m=\u001b[0m\u001b[1;34m\"C\"\u001b[0m\u001b[1;33m,\u001b[0m\u001b[1;33m\u001b[0m\u001b[1;33m\u001b[0m\u001b[0m\n\u001b[0;32m   1346\u001b[0m                                    accept_large_sparse=solver != 'liblinear')\n\u001b[1;32m-> 1347\u001b[1;33m         \u001b[0mcheck_classification_targets\u001b[0m\u001b[1;33m(\u001b[0m\u001b[0my\u001b[0m\u001b[1;33m)\u001b[0m\u001b[1;33m\u001b[0m\u001b[1;33m\u001b[0m\u001b[0m\n\u001b[0m\u001b[0;32m   1348\u001b[0m         \u001b[0mself\u001b[0m\u001b[1;33m.\u001b[0m\u001b[0mclasses_\u001b[0m \u001b[1;33m=\u001b[0m \u001b[0mnp\u001b[0m\u001b[1;33m.\u001b[0m\u001b[0munique\u001b[0m\u001b[1;33m(\u001b[0m\u001b[0my\u001b[0m\u001b[1;33m)\u001b[0m\u001b[1;33m\u001b[0m\u001b[1;33m\u001b[0m\u001b[0m\n\u001b[0;32m   1349\u001b[0m \u001b[1;33m\u001b[0m\u001b[0m\n",
      "\u001b[1;32mD:\\Program\\anoconda3\\envs\\TianChi\\lib\\site-packages\\sklearn\\utils\\multiclass.py\u001b[0m in \u001b[0;36mcheck_classification_targets\u001b[1;34m(y)\u001b[0m\n\u001b[0;32m    181\u001b[0m     if y_type not in ['binary', 'multiclass', 'multiclass-multioutput',\n\u001b[0;32m    182\u001b[0m                       'multilabel-indicator', 'multilabel-sequences']:\n\u001b[1;32m--> 183\u001b[1;33m         \u001b[1;32mraise\u001b[0m \u001b[0mValueError\u001b[0m\u001b[1;33m(\u001b[0m\u001b[1;34m\"Unknown label type: %r\"\u001b[0m \u001b[1;33m%\u001b[0m \u001b[0my_type\u001b[0m\u001b[1;33m)\u001b[0m\u001b[1;33m\u001b[0m\u001b[1;33m\u001b[0m\u001b[0m\n\u001b[0m\u001b[0;32m    184\u001b[0m \u001b[1;33m\u001b[0m\u001b[0m\n\u001b[0;32m    185\u001b[0m \u001b[1;33m\u001b[0m\u001b[0m\n",
      "\u001b[1;31mValueError\u001b[0m: Unknown label type: 'continuous'"
     ]
    }
   ],
   "source": [
    "lgr = LogisticRegression(random_state = 0)\n",
    "lgr.fit(x_train, y_train)\n"
   ]
  },
  {
   "cell_type": "code",
   "execution_count": null,
   "id": "flying-learning",
   "metadata": {},
   "outputs": [],
   "source": []
  },
  {
   "cell_type": "code",
   "execution_count": null,
   "id": "equivalent-destination",
   "metadata": {},
   "outputs": [],
   "source": []
  },
  {
   "cell_type": "code",
   "execution_count": null,
   "id": "informative-relations",
   "metadata": {},
   "outputs": [],
   "source": []
  }
 ],
 "metadata": {
  "kernelspec": {
   "display_name": "Python 3",
   "language": "python",
   "name": "python3"
  },
  "language_info": {
   "codemirror_mode": {
    "name": "ipython",
    "version": 3
   },
   "file_extension": ".py",
   "mimetype": "text/x-python",
   "name": "python",
   "nbconvert_exporter": "python",
   "pygments_lexer": "ipython3",
   "version": "3.6.13"
  }
 },
 "nbformat": 4,
 "nbformat_minor": 5
}
